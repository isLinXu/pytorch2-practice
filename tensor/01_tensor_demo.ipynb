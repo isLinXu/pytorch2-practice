{
 "cells": [
  {
   "cell_type": "markdown",
   "source": [
    "# 在cpu上简单的张量示例"
   ],
   "metadata": {
    "collapsed": false
   }
  },
  {
   "cell_type": "code",
   "execution_count": 9,
   "outputs": [
    {
     "name": "stdout",
     "output_type": "stream",
     "text": [
      "tensor([[ 8, 10, 12],\n",
      "        [14, 16, 18]])\n",
      "torch.Size([2, 3])\n",
      "cpu\n"
     ]
    }
   ],
   "source": [
    "import torch\n",
    "\n",
    "x = torch.tensor([[1, 2, 3], [4, 5, 6]])\n",
    "y = torch.tensor([[7, 8, 9], [10, 11, 12]])\n",
    "z = x + y\n",
    "print(z)\n",
    "print(z.size())\n",
    "print(z.device)"
   ],
   "metadata": {
    "collapsed": false
   }
  },
  {
   "cell_type": "markdown",
   "source": [
    "# 在gpu上简单的张量示例"
   ],
   "metadata": {
    "collapsed": false
   }
  },
  {
   "cell_type": "code",
   "execution_count": 10,
   "outputs": [
    {
     "name": "stdout",
     "output_type": "stream",
     "text": [
      "tensor([[ 8, 10, 12],\n",
      "        [14, 16, 18]], device='cuda:0')\n",
      "torch.Size([2, 3])\n",
      "cuda:0\n"
     ]
    }
   ],
   "source": [
    "import torch\n",
    "device = \"cuda\" if torch.cuda.is_available() else \"cpu\"\n",
    "x = torch.tensor([[1, 2, 3], [4, 5, 6]], device=device)\n",
    "y = torch.tensor([[7, 8, 9], [10, 11, 12]], device=device)\n",
    "z = x + y\n",
    "print(z)\n",
    "print(z.size())\n",
    "print(z.device)"
   ],
   "metadata": {
    "collapsed": false
   }
  },
  {
   "cell_type": "markdown",
   "source": [
    "# 在cpu和gpu之间移动张量"
   ],
   "metadata": {
    "collapsed": false
   }
  },
  {
   "cell_type": "code",
   "execution_count": 11,
   "outputs": [
    {
     "name": "stdout",
     "output_type": "stream",
     "text": [
      "tensor([[ 8, 10, 12],\n",
      "        [14, 16, 18]], device='cuda:0')\n",
      "cuda:0\n",
      "tensor([[ 8, 10, 12],\n",
      "        [14, 16, 18]])\n",
      "cpu\n"
     ]
    }
   ],
   "source": [
    "device = \"cuda\" if torch.cuda.is_available() else \"cpu\"\n",
    "x = x.to(device)\n",
    "y = y.to(device)\n",
    "z = x + y\n",
    "print(z)\n",
    "print(z.device)\n",
    "\n",
    "z = z.to(\"cpu\")\n",
    "print(z)\n",
    "print(z.device)"
   ],
   "metadata": {
    "collapsed": false
   }
  },
  {
   "cell_type": "markdown",
   "source": [
    "## 说明\n",
    "- 通过`tensor.to(device)`或者`tensor.cuda()`可以将张量移动到指定的设备上\n",
    "- 通过`tensor.to(\"cpu\")`可以将张量移动到cpu上\n",
    "- 通过`tensor.device`可以查看张量所在的设备\n",
    "- 通过`torch.cuda.is_available()`可以判断cuda是否可用\n",
    "- 通过`torch.device(\"cuda\")`可以指定cuda设备\n",
    "- 通过`torch.tensor(..., device=\"cuda:0\")`可以在创建张量的时候就指定设备\n",
    "- 通过`torch.cuda.empty_cache()`可以清理显存\n",
    "- 通过`torch.cuda.memory_allocated()`可以查看已使用的显存大小\n",
    "- 通过`torch.cuda.memory_cached()`可以查看显存中缓存的数据大小\n",
    "- 通过`torch.cuda.max_memory_allocated()`可以查看曾经使用过的显存的最大值\n",
    "- 通过`torch.cuda.max_memory_cached()`可以查看显存中缓存的数据的最大值\n",
    "- 通过`torch.cuda.reset_max_memory_allocated()`可以重置曾经使用过的显存的最大值\n",
    "- 通过`torch.cuda.reset_max_memory_cached()`可以重置显存中缓存的数据的最大值\n",
    "其中，可以直接使用字符串作为设备参数，而不是设备对象，如`tensor.to(\"cuda:0\")`。\n",
    "因此，以下代码都是等价的：\n",
    "- device = \"cuda\"\n",
    "- device = \"cuda:0\"\n",
    "- device = torch.device(\"cuda\")\n",
    "- device = torch.device(\"cuda:0\")"
   ],
   "metadata": {
    "collapsed": false
   }
  },
  {
   "cell_type": "code",
   "execution_count": 13,
   "outputs": [
    {
     "name": "stdout",
     "output_type": "stream",
     "text": [
      "1\n"
     ]
    }
   ],
   "source": [
    "import torch\n",
    "print(torch.cuda.memory_usage())"
   ],
   "metadata": {
    "collapsed": false
   }
  },
  {
   "cell_type": "code",
   "execution_count": 14,
   "outputs": [
    {
     "name": "stdout",
     "output_type": "stream",
     "text": [
      "1024\n"
     ]
    }
   ],
   "source": [
    "import torch\n",
    "print(torch.cuda.memory_allocated())"
   ],
   "metadata": {
    "collapsed": false
   }
  }
 ],
 "metadata": {
  "kernelspec": {
   "display_name": "Python 3",
   "language": "python",
   "name": "python3"
  },
  "language_info": {
   "codemirror_mode": {
    "name": "ipython",
    "version": 2
   },
   "file_extension": ".py",
   "mimetype": "text/x-python",
   "name": "python",
   "nbconvert_exporter": "python",
   "pygments_lexer": "ipython2",
   "version": "2.7.6"
  }
 },
 "nbformat": 4,
 "nbformat_minor": 0
}
