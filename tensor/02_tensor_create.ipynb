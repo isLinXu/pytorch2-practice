{
 "cells": [
  {
   "cell_type": "markdown",
   "source": [
    "# 创建张量"
   ],
   "metadata": {
    "collapsed": false
   }
  },
  {
   "cell_type": "markdown",
   "source": [
    "## (1) 由一个列表创建张量"
   ],
   "metadata": {
    "collapsed": false
   }
  },
  {
   "cell_type": "code",
   "execution_count": 2,
   "outputs": [
    {
     "name": "stdout",
     "output_type": "stream",
     "text": [
      "tensor([1, 2, 3])\n"
     ]
    }
   ],
   "source": [
    "import numpy\n",
    "import torch\n",
    "# Created from preexisting arrays\n",
    "w = torch.tensor([1,2,3])\n",
    "print(w)"
   ],
   "metadata": {
    "collapsed": false
   }
  },
  {
   "cell_type": "markdown",
   "source": [
    "## (2) 由一个元组创建张量"
   ],
   "metadata": {
    "collapsed": false
   }
  },
  {
   "cell_type": "code",
   "execution_count": 3,
   "outputs": [
    {
     "name": "stdout",
     "output_type": "stream",
     "text": [
      "tensor([1, 2, 3])\n"
     ]
    }
   ],
   "source": [
    "import torch\n",
    "w = torch.tensor((1,2,3))\n",
    "print(w)"
   ],
   "metadata": {
    "collapsed": false
   }
  },
  {
   "cell_type": "markdown",
   "source": [
    "## (3) 由一个numpy数组创建张量"
   ],
   "metadata": {
    "collapsed": false
   }
  },
  {
   "cell_type": "code",
   "execution_count": 5,
   "outputs": [
    {
     "name": "stdout",
     "output_type": "stream",
     "text": [
      "tensor([1, 2, 3])\n"
     ]
    }
   ],
   "source": [
    "import numpy\n",
    "import torch\n",
    "w = torch.tensor(numpy.array([1,2,3]))\n",
    "print(w)"
   ],
   "metadata": {
    "collapsed": false
   }
  },
  {
   "cell_type": "markdown",
   "source": [
    "Initialized by size"
   ],
   "metadata": {
    "collapsed": false
   }
  },
  {
   "cell_type": "markdown",
   "source": [],
   "metadata": {
    "collapsed": false
   }
  },
  {
   "cell_type": "markdown",
   "source": [
    "## (4) 未初始化，元素值不可预测"
   ],
   "metadata": {
    "collapsed": false
   }
  },
  {
   "cell_type": "code",
   "execution_count": 6,
   "outputs": [
    {
     "name": "stdout",
     "output_type": "stream",
     "text": [
      "tensor([[-7.9103e-04,  4.5884e-41,  4.0878e-34],\n",
      "        [ 0.0000e+00, -3.4161e-06,  4.5883e-41],\n",
      "        [-2.8501e+13,  1.1085e+26, -3.7409e-06]])\n"
     ]
    }
   ],
   "source": [
    "import numpy as np\n",
    "import torch\n",
    "w = torch.empty(3,3)\n",
    "print(w)"
   ],
   "metadata": {
    "collapsed": false
   }
  },
  {
   "cell_type": "markdown",
   "source": [
    "## (5) 所有元素初始化为0.0"
   ],
   "metadata": {
    "collapsed": false
   }
  },
  {
   "cell_type": "code",
   "execution_count": 7,
   "outputs": [
    {
     "name": "stdout",
     "output_type": "stream",
     "text": [
      "tensor([[0., 0., 0.],\n",
      "        [0., 0., 0.],\n",
      "        [0., 0., 0.]])\n"
     ]
    }
   ],
   "source": [
    "import numpy\n",
    "w = torch.zeros(3,3)\n",
    "print(w)"
   ],
   "metadata": {
    "collapsed": false
   }
  },
  {
   "cell_type": "markdown",
   "source": [
    "## (6) 所有元素初始化为1.0"
   ],
   "metadata": {
    "collapsed": false
   }
  },
  {
   "cell_type": "code",
   "execution_count": 9,
   "outputs": [
    {
     "name": "stdout",
     "output_type": "stream",
     "text": [
      "tensor([[1., 1., 1.],\n",
      "        [1., 1., 1.],\n",
      "        [1., 1., 1.]])\n"
     ]
    }
   ],
   "source": [
    "w = torch.ones(3,3)\n",
    "print(w)"
   ],
   "metadata": {
    "collapsed": false
   }
  },
  {
   "cell_type": "markdown",
   "source": [
    "## 使用随机数初始化张量"
   ],
   "metadata": {
    "collapsed": false
   }
  },
  {
   "cell_type": "markdown",
   "source": [
    "## (1) 用区间[0,1)上均匀分布的随机数初始化"
   ],
   "metadata": {
    "collapsed": false
   }
  },
  {
   "cell_type": "code",
   "execution_count": 10,
   "outputs": [
    {
     "name": "stdout",
     "output_type": "stream",
     "text": [
      "tensor([[0.9221, 0.7643, 0.8092],\n",
      "        [0.8625, 0.6390, 0.6687],\n",
      "        [0.4173, 0.2263, 0.8964]])\n"
     ]
    }
   ],
   "source": [
    "# Initialize with random numbers from a uniform distribution on the interval [0,1)\n",
    "import torch\n",
    "w = torch.rand(3,3)\n",
    "print(w)"
   ],
   "metadata": {
    "collapsed": false
   }
  },
  {
   "cell_type": "markdown",
   "source": [
    "## (2) 元素是均值为0，方差为1的正态分布随机数"
   ],
   "metadata": {
    "collapsed": false
   }
  },
  {
   "cell_type": "code",
   "execution_count": 11,
   "outputs": [
    {
     "name": "stdout",
     "output_type": "stream",
     "text": [
      "tensor([[ 1.6846, -0.8874, -0.6033],\n",
      "        [-0.5955, -0.8780, -1.4376],\n",
      "        [ 0.4884, -0.3041,  2.2103]])\n"
     ]
    }
   ],
   "source": [
    "import torch\n",
    "w = torch.randn(3,3)\n",
    "print(w)"
   ],
   "metadata": {
    "collapsed": false
   }
  },
  {
   "cell_type": "markdown",
   "source": [
    "## (3) 元素介于[m,n)之间的随机数"
   ],
   "metadata": {
    "collapsed": false
   }
  },
  {
   "cell_type": "code",
   "execution_count": 14,
   "outputs": [
    {
     "name": "stdout",
     "output_type": "stream",
     "text": [
      "tensor([[3, 4, 8],\n",
      "        [3, 2, 7],\n",
      "        [4, 3, 7]])\n"
     ]
    }
   ],
   "source": [
    "import torch\n",
    "w = torch.randint(1,10,(3,3))\n",
    "print(w)"
   ],
   "metadata": {
    "collapsed": false
   }
  },
  {
   "cell_type": "markdown",
   "source": [
    "# 说明\n",
    "还有一些历史遗留接口函数,如(from_numpy())和as_tensor()\n",
    "在实际中已经被torch.tensor()构造器所取代，理论上，torch.tensor()构造器可以接受任何类型的数据，用来处理所有情况，\n",
    "而torch.from_numpy()和torch.as_tensor()只接受numpy数组和torch张量作为输入\n",
    "\n",
    "下面是创建张量时，需要谨记的一些常见缺陷和要点：\n",
    "- 大部分函数都接受可选的dtype和device参数，用来指定张量的数据类型和所在设备，所以可以在创建张量时指定这两个参数；\n",
    "- 应当使用torch.arange()，而不是已经被弃用的torch.range()；步长已知时，应当使用torch.arange(),元素个数已知时，应当使用torch.linspace()；\n",
    "- 可以使用tensor.tensor()构造器，由类数组结构(如列表、Numpy数组、元组和集合)创建张量；\n",
    "- 要把已有的张量转换为Numpy数组和列表，可以分别使用torch.numpy()和torch.tolist()方法；"
   ],
   "metadata": {
    "collapsed": false
   }
  },
  {
   "cell_type": "markdown",
   "source": [
    "| 函数             | 函数接口 | 描述                                                 |\n",
    "| ---------------- | -------- | ---------------------------------------------------- |\n",
    "| torch.tensor()   |          | 由一个已有的数据结构，创建一个张量                   |\n",
    "| torch.empty()    |          | 基于内存中值的随机状态，由未初始化的元素创建一个张量 |\n",
    "| torch.zeros()    |          | 创建一个张量，所有元素初始化为0.0                    |\n",
    "| torch.ones()     |          | 创建一个张量，所有元素初始化为1.0                    |\n",
    "| torch.arange()   |          | 创建一个1维张量，包含一个区间中按统一步长所取的值    |\n",
    "| torch.linspace() |          | 创建一个张量，包含一个start和end之间的均匀间隔点     |\n",
    "| torch.logspace() |          | 创建一个张量，包含一个start和end之间的对数间隔点     |\n",
    "| torch.eye()      |          | 创建一个2维向量，对角线上为1，其他元素为0            |\n",
    "| torch.full()     |          | 创建一个用fill_value填充的张量                       |\n",
    "| torch.load()     |          | 由一个串行化pickle文件加载一个张量                   |\n",
    "| torch.save()     |          | 将一个张量保存到一个串行化pickle文件                 |\n"
   ],
   "metadata": {
    "collapsed": false
   }
  },
  {
   "cell_type": "code",
   "execution_count": null,
   "outputs": [],
   "source": [],
   "metadata": {
    "collapsed": false
   }
  }
 ],
 "metadata": {
  "kernelspec": {
   "display_name": "Python 3",
   "language": "python",
   "name": "python3"
  },
  "language_info": {
   "codemirror_mode": {
    "name": "ipython",
    "version": 2
   },
   "file_extension": ".py",
   "mimetype": "text/x-python",
   "name": "python",
   "nbconvert_exporter": "python",
   "pygments_lexer": "ipython2",
   "version": "2.7.6"
  }
 },
 "nbformat": 4,
 "nbformat_minor": 0
}
